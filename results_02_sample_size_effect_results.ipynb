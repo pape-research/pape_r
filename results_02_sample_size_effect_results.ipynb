{
 "cells": [
  {
   "cell_type": "markdown",
   "id": "8e9f8173",
   "metadata": {},
   "source": [
    "This notebook shows and analyzes the results of the main experiment."
   ]
  },
  {
   "cell_type": "code",
   "execution_count": 1,
   "id": "0c986c51",
   "metadata": {},
   "outputs": [
    {
     "data": {
      "text/html": [
       "<style>.container { width:80% !important; }</style>"
      ],
      "text/plain": [
       "<IPython.core.display.HTML object>"
      ]
     },
     "metadata": {},
     "output_type": "display_data"
    }
   ],
   "source": [
    "from IPython.display import display, HTML\n",
    "display(HTML(\"<style>.container { width:80% !important; }</style>\"))"
   ]
  },
  {
   "cell_type": "code",
   "execution_count": 2,
   "id": "0bff34a5",
   "metadata": {},
   "outputs": [],
   "source": [
    "import pandas as pd, numpy as np, matplotlib.pyplot as plt, scipy, time, warnings\n",
    "from sklearn.metrics import r2_score, log_loss,confusion_matrix, accuracy_score, f1_score, precision_score, recall_score, balanced_accuracy_score, roc_auc_score, classification_report"
   ]
  },
  {
   "cell_type": "code",
   "execution_count": 3,
   "id": "805216ca",
   "metadata": {},
   "outputs": [],
   "source": [
    "from methods.utils import CB_color_cycle, ORDER, colors, METRIC_MAPPER"
   ]
  },
  {
   "cell_type": "code",
   "execution_count": 4,
   "id": "692bb2aa",
   "metadata": {},
   "outputs": [],
   "source": [
    "pd.set_option('display.max_columns', 100)"
   ]
  },
  {
   "cell_type": "markdown",
   "id": "ce41e8dd",
   "metadata": {},
   "source": [
    "# Load data"
   ]
  },
  {
   "cell_type": "code",
   "execution_count": 5,
   "id": "ef1113d6",
   "metadata": {},
   "outputs": [],
   "source": [
    "metrics = ['accuracy', 'roc_auc', 'f1']"
   ]
  },
  {
   "cell_type": "code",
   "execution_count": 6,
   "id": "2b572d0c",
   "metadata": {},
   "outputs": [],
   "source": [
    "df = pd.read_parquet('sample_size_experiment_results/experiment_chunk_size_effect.pq')"
   ]
  },
  {
   "cell_type": "code",
   "execution_count": 7,
   "id": "3a500364",
   "metadata": {},
   "outputs": [
    {
     "data": {
      "text/plain": [
       "PAPE        6789\n",
       "TEST_SET    6789\n",
       "DOC         6789\n",
       "IW          6789\n",
       "CBPE        6789\n",
       "RT          6789\n",
       "ATC         6789\n",
       "Name: method, dtype: int64"
      ]
     },
     "execution_count": 7,
     "metadata": {},
     "output_type": "execute_result"
    }
   ],
   "source": [
    "df['method'].value_counts()"
   ]
  },
  {
   "cell_type": "code",
   "execution_count": 8,
   "id": "f95ce6ac",
   "metadata": {},
   "outputs": [],
   "source": [
    "df['evaluation_case'] = df[['dataset', 'monitored_model', 'chunksize']].astype(str).agg('-'.join, axis=1)"
   ]
  },
  {
   "cell_type": "code",
   "execution_count": 9,
   "id": "6a3f01bb",
   "metadata": {},
   "outputs": [],
   "source": [
    "# data with standard deviations/standard errors per evaluation case\n",
    "stds = pd.read_parquet('sample_size_experiment_results/STD_results.pq') \n",
    "stds['evaluation_case'] = stds[['dataset', 'monitored_model', 'chunksize']].astype(str).agg('-'.join, axis=1)\n",
    "stds = stds[['evaluation_case', 'std_accuracy', 'std_roc_auc','std_f1', ]]"
   ]
  },
  {
   "cell_type": "code",
   "execution_count": 10,
   "id": "ddb6eb1b",
   "metadata": {},
   "outputs": [],
   "source": [
    "df = pd.merge(df, stds, on='evaluation_case') "
   ]
  },
  {
   "cell_type": "code",
   "execution_count": 11,
   "id": "0332a69f",
   "metadata": {},
   "outputs": [
    {
     "data": {
      "text/html": [
       "<div>\n",
       "<style scoped>\n",
       "    .dataframe tbody tr th:only-of-type {\n",
       "        vertical-align: middle;\n",
       "    }\n",
       "\n",
       "    .dataframe tbody tr th {\n",
       "        vertical-align: top;\n",
       "    }\n",
       "\n",
       "    .dataframe thead th {\n",
       "        text-align: right;\n",
       "    }\n",
       "</style>\n",
       "<table border=\"1\" class=\"dataframe\">\n",
       "  <thead>\n",
       "    <tr style=\"text-align: right;\">\n",
       "      <th></th>\n",
       "      <th>method</th>\n",
       "      <th>dataset</th>\n",
       "      <th>monitored_model</th>\n",
       "      <th>accuracy</th>\n",
       "      <th>est_accuracy</th>\n",
       "      <th>roc_auc</th>\n",
       "      <th>est_roc_auc</th>\n",
       "      <th>f1</th>\n",
       "      <th>est_f1</th>\n",
       "      <th>period</th>\n",
       "      <th>chunksize</th>\n",
       "      <th>step</th>\n",
       "      <th>evaluation_case</th>\n",
       "      <th>std_accuracy</th>\n",
       "      <th>std_roc_auc</th>\n",
       "      <th>std_f1</th>\n",
       "    </tr>\n",
       "  </thead>\n",
       "  <tbody>\n",
       "    <tr>\n",
       "      <th>0</th>\n",
       "      <td>PAPE</td>\n",
       "      <td>employment-2015_2016_2017_2018-CA.pq</td>\n",
       "      <td>LGBMClassifier_</td>\n",
       "      <td>0.83</td>\n",
       "      <td>0.840688</td>\n",
       "      <td>0.877551</td>\n",
       "      <td>0.901566</td>\n",
       "      <td>0.838095</td>\n",
       "      <td>0.844417</td>\n",
       "      <td>reference</td>\n",
       "      <td>100</td>\n",
       "      <td>1000</td>\n",
       "      <td>employment-2015_2016_2017_2018-CA.pq-LGBMClass...</td>\n",
       "      <td>0.037842</td>\n",
       "      <td>0.030206</td>\n",
       "      <td>0.043526</td>\n",
       "    </tr>\n",
       "    <tr>\n",
       "      <th>1</th>\n",
       "      <td>PAPE</td>\n",
       "      <td>employment-2015_2016_2017_2018-CA.pq</td>\n",
       "      <td>LGBMClassifier_</td>\n",
       "      <td>0.88</td>\n",
       "      <td>0.886251</td>\n",
       "      <td>0.938611</td>\n",
       "      <td>0.944643</td>\n",
       "      <td>0.857143</td>\n",
       "      <td>0.863683</td>\n",
       "      <td>reference</td>\n",
       "      <td>100</td>\n",
       "      <td>1000</td>\n",
       "      <td>employment-2015_2016_2017_2018-CA.pq-LGBMClass...</td>\n",
       "      <td>0.037842</td>\n",
       "      <td>0.030206</td>\n",
       "      <td>0.043526</td>\n",
       "    </tr>\n",
       "    <tr>\n",
       "      <th>2</th>\n",
       "      <td>PAPE</td>\n",
       "      <td>employment-2015_2016_2017_2018-CA.pq</td>\n",
       "      <td>LGBMClassifier_</td>\n",
       "      <td>0.82</td>\n",
       "      <td>0.831135</td>\n",
       "      <td>0.887473</td>\n",
       "      <td>0.901846</td>\n",
       "      <td>0.763158</td>\n",
       "      <td>0.787560</td>\n",
       "      <td>reference</td>\n",
       "      <td>100</td>\n",
       "      <td>1000</td>\n",
       "      <td>employment-2015_2016_2017_2018-CA.pq-LGBMClass...</td>\n",
       "      <td>0.037842</td>\n",
       "      <td>0.030206</td>\n",
       "      <td>0.043526</td>\n",
       "    </tr>\n",
       "    <tr>\n",
       "      <th>3</th>\n",
       "      <td>PAPE</td>\n",
       "      <td>employment-2015_2016_2017_2018-CA.pq</td>\n",
       "      <td>LGBMClassifier_</td>\n",
       "      <td>0.85</td>\n",
       "      <td>0.819742</td>\n",
       "      <td>0.923232</td>\n",
       "      <td>0.901541</td>\n",
       "      <td>0.827586</td>\n",
       "      <td>0.787752</td>\n",
       "      <td>reference</td>\n",
       "      <td>100</td>\n",
       "      <td>1000</td>\n",
       "      <td>employment-2015_2016_2017_2018-CA.pq-LGBMClass...</td>\n",
       "      <td>0.037842</td>\n",
       "      <td>0.030206</td>\n",
       "      <td>0.043526</td>\n",
       "    </tr>\n",
       "    <tr>\n",
       "      <th>4</th>\n",
       "      <td>PAPE</td>\n",
       "      <td>employment-2015_2016_2017_2018-CA.pq</td>\n",
       "      <td>LGBMClassifier_</td>\n",
       "      <td>0.86</td>\n",
       "      <td>0.831525</td>\n",
       "      <td>0.929487</td>\n",
       "      <td>0.914562</td>\n",
       "      <td>0.857143</td>\n",
       "      <td>0.826396</td>\n",
       "      <td>reference</td>\n",
       "      <td>100</td>\n",
       "      <td>1000</td>\n",
       "      <td>employment-2015_2016_2017_2018-CA.pq-LGBMClass...</td>\n",
       "      <td>0.037842</td>\n",
       "      <td>0.030206</td>\n",
       "      <td>0.043526</td>\n",
       "    </tr>\n",
       "  </tbody>\n",
       "</table>\n",
       "</div>"
      ],
      "text/plain": [
       "  method                               dataset  monitored_model  accuracy  \\\n",
       "0   PAPE  employment-2015_2016_2017_2018-CA.pq  LGBMClassifier_      0.83   \n",
       "1   PAPE  employment-2015_2016_2017_2018-CA.pq  LGBMClassifier_      0.88   \n",
       "2   PAPE  employment-2015_2016_2017_2018-CA.pq  LGBMClassifier_      0.82   \n",
       "3   PAPE  employment-2015_2016_2017_2018-CA.pq  LGBMClassifier_      0.85   \n",
       "4   PAPE  employment-2015_2016_2017_2018-CA.pq  LGBMClassifier_      0.86   \n",
       "\n",
       "   est_accuracy   roc_auc  est_roc_auc        f1    est_f1     period  \\\n",
       "0      0.840688  0.877551     0.901566  0.838095  0.844417  reference   \n",
       "1      0.886251  0.938611     0.944643  0.857143  0.863683  reference   \n",
       "2      0.831135  0.887473     0.901846  0.763158  0.787560  reference   \n",
       "3      0.819742  0.923232     0.901541  0.827586  0.787752  reference   \n",
       "4      0.831525  0.929487     0.914562  0.857143  0.826396  reference   \n",
       "\n",
       "   chunksize  step                                    evaluation_case  \\\n",
       "0        100  1000  employment-2015_2016_2017_2018-CA.pq-LGBMClass...   \n",
       "1        100  1000  employment-2015_2016_2017_2018-CA.pq-LGBMClass...   \n",
       "2        100  1000  employment-2015_2016_2017_2018-CA.pq-LGBMClass...   \n",
       "3        100  1000  employment-2015_2016_2017_2018-CA.pq-LGBMClass...   \n",
       "4        100  1000  employment-2015_2016_2017_2018-CA.pq-LGBMClass...   \n",
       "\n",
       "   std_accuracy  std_roc_auc    std_f1  \n",
       "0      0.037842     0.030206  0.043526  \n",
       "1      0.037842     0.030206  0.043526  \n",
       "2      0.037842     0.030206  0.043526  \n",
       "3      0.037842     0.030206  0.043526  \n",
       "4      0.037842     0.030206  0.043526  "
      ]
     },
     "execution_count": 11,
     "metadata": {},
     "output_type": "execute_result"
    }
   ],
   "source": [
    "df.head()"
   ]
  },
  {
   "cell_type": "markdown",
   "id": "d59a8dda",
   "metadata": {},
   "source": [
    "## Preprocess: Add Constant Corrected Reverse Training"
   ]
  },
  {
   "cell_type": "markdown",
   "id": "6a157fb9",
   "metadata": {},
   "source": [
    "As described in the paper, for Reverse Training we apply constant correction so that the performance estimated by this method on reference data (where labels are available) matches, on average, the realized performance. Otherwise the estimates were biased and uncomparable to other methods. We keep the original method for investigation."
   ]
  },
  {
   "cell_type": "code",
   "execution_count": 12,
   "id": "de10af27",
   "metadata": {},
   "outputs": [],
   "source": [
    "RT = df[df['method']=='RT']\n",
    "RT_ref = RT[RT['period']=='reference'].copy()\n",
    "\n",
    "RT_corrected = RT.copy()\n",
    "for metric in metrics:\n",
    "    RT_ref[metric + '_diff_on_reference'] = RT_ref[metric] - RT_ref['est_' + metric] # difference between realized and estimated on reference chunks\n",
    "    constant_correction_for_RT = RT_ref.groupby('evaluation_case')[metric + '_diff_on_reference'].mean().reset_index(drop=False) # get mean difference per evaluation case\n",
    "    RT_corrected = pd.merge(RT_corrected, constant_correction_for_RT, left_on='evaluation_case', right_on='evaluation_case')\n",
    "    RT_corrected['est_' + metric] = RT_corrected['est_' + metric] + RT_corrected[metric + '_diff_on_reference']\n",
    "    RT_corrected = RT_corrected.drop(columns=[metric + '_diff_on_reference'])\n",
    "\n",
    "RT_corrected['method'] = 'RT-mod'\n",
    "df = pd.concat([df, RT_corrected]).reset_index(drop=True)"
   ]
  },
  {
   "cell_type": "code",
   "execution_count": 13,
   "id": "912c6bc3",
   "metadata": {},
   "outputs": [
    {
     "data": {
      "text/plain": [
       "method\n",
       "ATC         6789\n",
       "CBPE        6789\n",
       "DOC         6789\n",
       "IW          6789\n",
       "PAPE        6789\n",
       "RT          6789\n",
       "RT-mod      6789\n",
       "TEST_SET    6789\n",
       "Name: method, dtype: int64"
      ]
     },
     "execution_count": 13,
     "metadata": {},
     "output_type": "execute_result"
    }
   ],
   "source": [
    "df.groupby('method')['method'].count()"
   ]
  },
  {
   "cell_type": "markdown",
   "id": "e2f4c0dd",
   "metadata": {},
   "source": [
    "# Analyze the results"
   ]
  },
  {
   "cell_type": "code",
   "execution_count": 14,
   "id": "bce2c808",
   "metadata": {},
   "outputs": [],
   "source": [
    "dfa = df[df['period']=='production'].copy()"
   ]
  },
  {
   "cell_type": "code",
   "execution_count": 15,
   "id": "459e99a8",
   "metadata": {},
   "outputs": [],
   "source": [
    "for metric in ['accuracy', 'roc_auc', 'f1']:\n",
    "    dfa['E_' + metric] = dfa[metric]-dfa['est_' + metric]\n",
    "    dfa['AE_' + metric] = abs(dfa[metric]-dfa['est_' + metric])\n",
    "    dfa['SE_' + metric] = (dfa[metric]-dfa['est_' + metric])**2\n"
   ]
  },
  {
   "cell_type": "code",
   "execution_count": 16,
   "id": "d8a347b9",
   "metadata": {},
   "outputs": [
    {
     "data": {
      "text/plain": [
       "PAPE        4532\n",
       "TEST_SET    4532\n",
       "DOC         4532\n",
       "IW          4532\n",
       "CBPE        4532\n",
       "RT          4532\n",
       "ATC         4532\n",
       "RT-mod      4532\n",
       "Name: method, dtype: int64"
      ]
     },
     "execution_count": 16,
     "metadata": {},
     "output_type": "execute_result"
    }
   ],
   "source": [
    "dfa['method'].value_counts()"
   ]
  },
  {
   "cell_type": "code",
   "execution_count": 17,
   "id": "563859f9",
   "metadata": {},
   "outputs": [
    {
     "data": {
      "image/png": "[encoded data removed]",
      "text/plain": [
       "<Figure size 900x337.5 with 1 Axes>"
      ]
     },
     "metadata": {},
     "output_type": "display_data"
    }
   ],
   "source": [
    "metric = 'roc_auc'\n",
    "keep_methods = ORDER\n",
    "plt.figure(figsize=(9,3/8*9))\n",
    "for method_name, method_data in dfa.groupby('method'):\n",
    "    chs, metrics = [], []\n",
    "    if method_name not in keep_methods:\n",
    "        continue\n",
    "    for chunksize, chunksize_data in method_data.groupby('chunksize'):\n",
    "        MAE = np.mean(chunksize_data['AE_' + metric])\n",
    "        chs.append(int(chunksize))\n",
    "        metrics.append(MAE)\n",
    "    plt.plot(chs, metrics, 'o-', label=method_name, color=colors[method_name], linewidth=1, markersize=2)\n",
    "plt.legend()\n",
    "plt.xscale('log')\n",
    "plt.yscale('log')\n",
    "plt.grid(which=\"major\", axis='x', color='#DAD8D7', alpha=0.5, zorder=1)\n",
    "plt.grid(which=\"major\", axis='y', color='#DAD8D7', alpha=0.5, zorder=1)\n",
    "plt.xticks(ticks=chs, labels=chs)\n",
    "plt.yticks(ticks=[0.005, 0.01, 0.02, 0.03, 0.04, 0.05, 0.06], labels=[0.005, 0.01, 0.02, 0.03, 0.04, 0.05, 0.06])\n",
    "plt.xlabel('Chunk Size (log scale)')\n",
    "plt.ylabel('MAE of AUROC estimation (log scale)')\n",
    "\n",
    "plt.savefig('figures/chunksize_effect.png', dpi=320)\n",
    "\n",
    "plt.tight_layout()\n",
    "plt.show()"
   ]
  },
  {
   "cell_type": "code",
   "execution_count": null,
   "id": "d3cd0aa1",
   "metadata": {},
   "outputs": [],
   "source": []
  }
 ],
 "metadata": {
  "kernelspec": {
   "display_name": "NMLp39",
   "language": "python",
   "name": "nmlp39"
  },
  "language_info": {
   "codemirror_mode": {
    "name": "ipython",
    "version": 3
   },
   "file_extension": ".py",
   "mimetype": "text/x-python",
   "name": "python",
   "nbconvert_exporter": "python",
   "pygments_lexer": "ipython3",
   "version": "3.9.16"
  }
 },
 "nbformat": 4,
 "nbformat_minor": 5
}
